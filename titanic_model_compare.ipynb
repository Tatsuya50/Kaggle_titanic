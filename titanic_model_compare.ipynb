{
 "cells": [
  {
   "cell_type": "code",
   "execution_count": 1,
   "metadata": {},
   "outputs": [],
   "source": [
    "import os\n",
    "import pandas as pd\n",
    "import numpy as np\n",
    "import matplotlib.pyplot as plt\n",
    "%matplotlib inline\n",
    "\n",
    "import sklearn as sk\n",
    "\n",
    "from sklearn.ensemble import RandomForestClassifier\n",
    "model = RandomForestClassifier(n_estimators = 1000, max_leaf_nodes = 32, n_jobs = -1, max_depth = 6)\n",
    "\n",
    "from sklearn.linear_model import LogisticRegression\n",
    "model2 = LogisticRegression()\n",
    "\n",
    "from sklearn.svm import LinearSVC\n",
    "model3 = LinearSVC()\n",
    "\n",
    "from sklearn.svm import SVC\n",
    "model4 = SVC(kernel = 'linear', C = 0.025)\n",
    "\n",
    "from sklearn.ensemble import VotingClassifier\n",
    "from lightgbm import LGBMClassifier\n",
    "\n",
    "from sklearn.ensemble import AdaBoostClassifier\n",
    "from sklearn.neighbors import KNeighborsClassifier\n",
    "from sklearn.naive_bayes import GaussianNB\n",
    "from sklearn.model_selection import GridSearchCV\n",
    "\n",
    "#データの読み込み\n",
    "train = pd.read_csv('train.csv')\n",
    "test = pd.read_csv('test.csv')"
   ]
  },
  {
   "cell_type": "code",
   "execution_count": 2,
   "metadata": {},
   "outputs": [
    {
     "name": "stdout",
     "output_type": "stream",
     "text": [
      "<class 'pandas.core.frame.DataFrame'>\n",
      "RangeIndex: 891 entries, 0 to 890\n",
      "Data columns (total 12 columns):\n",
      "PassengerId    891 non-null int64\n",
      "Survived       891 non-null int64\n",
      "Pclass         891 non-null int64\n",
      "Name           891 non-null object\n",
      "Sex            891 non-null object\n",
      "Age            714 non-null float64\n",
      "SibSp          891 non-null int64\n",
      "Parch          891 non-null int64\n",
      "Ticket         891 non-null object\n",
      "Fare           891 non-null float64\n",
      "Cabin          204 non-null object\n",
      "Embarked       889 non-null object\n",
      "dtypes: float64(2), int64(5), object(5)\n",
      "memory usage: 83.7+ KB\n"
     ]
    },
    {
     "data": {
      "text/html": [
       "<div>\n",
       "<style scoped>\n",
       "    .dataframe tbody tr th:only-of-type {\n",
       "        vertical-align: middle;\n",
       "    }\n",
       "\n",
       "    .dataframe tbody tr th {\n",
       "        vertical-align: top;\n",
       "    }\n",
       "\n",
       "    .dataframe thead th {\n",
       "        text-align: right;\n",
       "    }\n",
       "</style>\n",
       "<table border=\"1\" class=\"dataframe\">\n",
       "  <thead>\n",
       "    <tr style=\"text-align: right;\">\n",
       "      <th></th>\n",
       "      <th>PassengerId</th>\n",
       "      <th>Survived</th>\n",
       "      <th>Pclass</th>\n",
       "      <th>Name</th>\n",
       "      <th>Sex</th>\n",
       "      <th>Age</th>\n",
       "      <th>SibSp</th>\n",
       "      <th>Parch</th>\n",
       "      <th>Ticket</th>\n",
       "      <th>Fare</th>\n",
       "      <th>Cabin</th>\n",
       "      <th>Embarked</th>\n",
       "    </tr>\n",
       "  </thead>\n",
       "  <tbody>\n",
       "    <tr>\n",
       "      <th>0</th>\n",
       "      <td>1</td>\n",
       "      <td>0</td>\n",
       "      <td>3</td>\n",
       "      <td>Braund, Mr. Owen Harris</td>\n",
       "      <td>male</td>\n",
       "      <td>22.0</td>\n",
       "      <td>1</td>\n",
       "      <td>0</td>\n",
       "      <td>A/5 21171</td>\n",
       "      <td>7.2500</td>\n",
       "      <td>NaN</td>\n",
       "      <td>S</td>\n",
       "    </tr>\n",
       "    <tr>\n",
       "      <th>1</th>\n",
       "      <td>2</td>\n",
       "      <td>1</td>\n",
       "      <td>1</td>\n",
       "      <td>Cumings, Mrs. John Bradley (Florence Briggs Th...</td>\n",
       "      <td>female</td>\n",
       "      <td>38.0</td>\n",
       "      <td>1</td>\n",
       "      <td>0</td>\n",
       "      <td>PC 17599</td>\n",
       "      <td>71.2833</td>\n",
       "      <td>C85</td>\n",
       "      <td>C</td>\n",
       "    </tr>\n",
       "    <tr>\n",
       "      <th>2</th>\n",
       "      <td>3</td>\n",
       "      <td>1</td>\n",
       "      <td>3</td>\n",
       "      <td>Heikkinen, Miss. Laina</td>\n",
       "      <td>female</td>\n",
       "      <td>26.0</td>\n",
       "      <td>0</td>\n",
       "      <td>0</td>\n",
       "      <td>STON/O2. 3101282</td>\n",
       "      <td>7.9250</td>\n",
       "      <td>NaN</td>\n",
       "      <td>S</td>\n",
       "    </tr>\n",
       "    <tr>\n",
       "      <th>3</th>\n",
       "      <td>4</td>\n",
       "      <td>1</td>\n",
       "      <td>1</td>\n",
       "      <td>Futrelle, Mrs. Jacques Heath (Lily May Peel)</td>\n",
       "      <td>female</td>\n",
       "      <td>35.0</td>\n",
       "      <td>1</td>\n",
       "      <td>0</td>\n",
       "      <td>113803</td>\n",
       "      <td>53.1000</td>\n",
       "      <td>C123</td>\n",
       "      <td>S</td>\n",
       "    </tr>\n",
       "    <tr>\n",
       "      <th>4</th>\n",
       "      <td>5</td>\n",
       "      <td>0</td>\n",
       "      <td>3</td>\n",
       "      <td>Allen, Mr. William Henry</td>\n",
       "      <td>male</td>\n",
       "      <td>35.0</td>\n",
       "      <td>0</td>\n",
       "      <td>0</td>\n",
       "      <td>373450</td>\n",
       "      <td>8.0500</td>\n",
       "      <td>NaN</td>\n",
       "      <td>S</td>\n",
       "    </tr>\n",
       "  </tbody>\n",
       "</table>\n",
       "</div>"
      ],
      "text/plain": [
       "   PassengerId  Survived  Pclass  \\\n",
       "0            1         0       3   \n",
       "1            2         1       1   \n",
       "2            3         1       3   \n",
       "3            4         1       1   \n",
       "4            5         0       3   \n",
       "\n",
       "                                                Name     Sex   Age  SibSp  \\\n",
       "0                            Braund, Mr. Owen Harris    male  22.0      1   \n",
       "1  Cumings, Mrs. John Bradley (Florence Briggs Th...  female  38.0      1   \n",
       "2                             Heikkinen, Miss. Laina  female  26.0      0   \n",
       "3       Futrelle, Mrs. Jacques Heath (Lily May Peel)  female  35.0      1   \n",
       "4                           Allen, Mr. William Henry    male  35.0      0   \n",
       "\n",
       "   Parch            Ticket     Fare Cabin Embarked  \n",
       "0      0         A/5 21171   7.2500   NaN        S  \n",
       "1      0          PC 17599  71.2833   C85        C  \n",
       "2      0  STON/O2. 3101282   7.9250   NaN        S  \n",
       "3      0            113803  53.1000  C123        S  \n",
       "4      0            373450   8.0500   NaN        S  "
      ]
     },
     "execution_count": 2,
     "metadata": {},
     "output_type": "execute_result"
    }
   ],
   "source": [
    "train.info()\n",
    "train.head()"
   ]
  },
  {
   "cell_type": "code",
   "execution_count": 3,
   "metadata": {},
   "outputs": [],
   "source": [
    "\n",
    "train = train.drop(['Name', 'Embarked', 'Ticket'], axis = 'columns')\n",
    "train = train.fillna(train['Age'].median())\n",
    "train['Sex'] = (train['Sex'] == 'female') * 1\n",
    "train['FamilySize'] = train['SibSp'] + train['Parch'] + 1\n",
    "train = train.drop(['SibSp', 'Parch'], axis ='columns')\n",
    "train['Cabin'] = train['Cabin'].apply(lambda x:0 if type(x) == float else 1)\n"
   ]
  },
  {
   "cell_type": "code",
   "execution_count": 14,
   "metadata": {},
   "outputs": [
    {
     "name": "stdout",
     "output_type": "stream",
     "text": [
      "<class 'pandas.core.frame.DataFrame'>\n",
      "RangeIndex: 891 entries, 0 to 890\n",
      "Data columns (total 8 columns):\n",
      "PassengerId    891 non-null int64\n",
      "Survived       891 non-null int64\n",
      "Pclass         891 non-null int64\n",
      "Sex            891 non-null int64\n",
      "Age            891 non-null float64\n",
      "Fare           891 non-null float64\n",
      "Cabin          891 non-null int64\n",
      "FamilySize     891 non-null int64\n",
      "dtypes: float64(2), int64(6)\n",
      "memory usage: 55.8 KB\n",
      "(891, 6)\n",
      "(891,)\n"
     ]
    },
    {
     "data": {
      "text/plain": [
       "GridSearchCV(cv=3, error_score=nan,\n",
       "             estimator=LGBMClassifier(boosting_type='gbdt', class_weight=None,\n",
       "                                      colsample_bytree=1.0,\n",
       "                                      importance_type='split',\n",
       "                                      learning_rate=0.1, max_depth=-1,\n",
       "                                      min_child_samples=20,\n",
       "                                      min_child_weight=0.001,\n",
       "                                      min_split_gain=0.0, n_estimators=100,\n",
       "                                      n_jobs=-1, num_leaves=31, objective=None,\n",
       "                                      random_state=None, reg_alpha=0.0,\n",
       "                                      reg_lambda=0.0, silent=True,\n",
       "                                      subsample=1.0, subsample_for_bin=200000,\n",
       "                                      subsample_freq=0),\n",
       "             iid='deprecated', n_jobs=None,\n",
       "             param_grid={'learning_rate': [0.225, 0.25, 0.275],\n",
       "                         'max_depth': [2, 3, 4], 'num_leaves': [3, 4, 5, 6]},\n",
       "             pre_dispatch='2*n_jobs', refit=True, return_train_score=False,\n",
       "             scoring='accuracy', verbose=0)"
      ]
     },
     "execution_count": 14,
     "metadata": {},
     "output_type": "execute_result"
    }
   ],
   "source": [
    "train.info()\n",
    "train.head()\n",
    "\n",
    "train_data = train.values\n",
    "xs = train_data[:, 2:]\n",
    "y = train_data[:, 1]\n",
    "\n",
    "print (xs.shape)\n",
    "print (y.shape)\n",
    "\n",
    "grid_forest = RandomForestClassifier()\n",
    "grid_ada = AdaBoostClassifier()\n",
    "grid_LGBM = LGBMClassifier()\n",
    "param_grid = {'max_depth' : [2, 3, 4], 'learning_rate' : [0.225, 0.25, 0.275], 'num_leaves' : [3, 4, 5, 6]}\n",
    "grid_search = GridSearchCV(grid_LGBM, param_grid, cv =3, scoring = \"accuracy\")\n",
    "grid_search.fit(xs, y)"
   ]
  },
  {
   "cell_type": "code",
   "execution_count": 15,
   "metadata": {},
   "outputs": [
    {
     "data": {
      "text/plain": [
       "{'learning_rate': 0.25, 'max_depth': 2, 'num_leaves': 4}"
      ]
     },
     "execution_count": 15,
     "metadata": {},
     "output_type": "execute_result"
    }
   ],
   "source": [
    "grid_search.best_params_"
   ]
  },
  {
   "cell_type": "code",
   "execution_count": 16,
   "metadata": {},
   "outputs": [
    {
     "name": "stderr",
     "output_type": "stream",
     "text": [
      "/Library/Frameworks/Python.framework/Versions/3.8/lib/python3.8/site-packages/sklearn/svm/_base.py:946: ConvergenceWarning: Liblinear failed to converge, increase the number of iterations.\n",
      "  warnings.warn(\"Liblinear failed to converge, increase \"\n"
     ]
    }
   ],
   "source": [
    "#モデルの作成\n",
    "model = model.fit(xs, y)\n",
    "model2 = model2.fit(xs, y)\n",
    "model3 = model3.fit(xs, y)\n",
    "model4 = model4.fit(xs, y)\n",
    "model5 = VotingClassifier(estimators=[('rf', RandomForestClassifier(n_estimators = 1000, max_leaf_nodes = 32, n_jobs = -1)),('logi', LogisticRegression())])\n",
    "model5 = model5.fit(xs, y)\n",
    "model6 = LGBMClassifier(learning_rate=0.25,max_depth=2,num_leaves=4).fit(xs,y)\n",
    "model7 = AdaBoostClassifier(n_estimators = 500, learning_rate = 0.008)\n",
    "model7 = model7.fit(xs, y)\n",
    "model8 = VotingClassifier(estimators=[('rf', RandomForestClassifier(n_estimators = 5000,\\\n",
    "                                                                    max_leaf_nodes = 16, n_jobs = -1)),\\\n",
    "                                      ('logi', LogisticRegression()),\\\n",
    "                                      ('lgb', LGBMClassifier(learning_rate=0.01,max_depth=2,num_leaves=3))])\n",
    "model8 = model8.fit(xs, y)\n",
    "model9 = KNeighborsClassifier(n_neighbors = 3)\n",
    "model9 = model9.fit(xs, y)\n",
    "model10 = GaussianNB()\n",
    "model10 = model10.fit(xs, y)\n"
   ]
  },
  {
   "cell_type": "code",
   "execution_count": 17,
   "metadata": {},
   "outputs": [
    {
     "name": "stdout",
     "output_type": "stream",
     "text": [
      "(418, 6)\n"
     ]
    }
   ],
   "source": [
    "#テストデータにもトレーニングデータと同じ処理を行う\n",
    "test = test.drop(['Name', 'Embarked', 'Ticket'], axis = 'columns')\n",
    "test = test.fillna(train['Age'].median())\n",
    "test['Sex'] = (test['Sex'] == 'female') * 1\n",
    "\n",
    "test['FamilySize'] = test['SibSp'] + test['Parch'] + 1\n",
    "test = test.drop(['SibSp', 'Parch'], axis ='columns')\n",
    "\n",
    "test['Cabin'] = test['Cabin'].apply(lambda x:0 if type(x) == float else 1)\n",
    "\n",
    "\n",
    "test_data = test.values\n",
    "xs_test = test_data[:, 1:]\n",
    "\n",
    "print(xs_test.shape)"
   ]
  },
  {
   "cell_type": "code",
   "execution_count": 18,
   "metadata": {},
   "outputs": [],
   "source": [
    "output = model.predict(xs_test).astype(int)\n",
    "output2 = model2.predict(xs_test).astype(int)\n",
    "output3 = model3.predict(xs_test).astype(int)\n",
    "output4 = model4.predict(xs_test).astype(int)\n",
    "output5 = model5.predict(xs_test).astype(int)\n",
    "output6 = model6.predict(xs_test).astype(int)\n",
    "output7 = model7.predict(xs_test).astype(int)\n",
    "output8 = model8.predict(xs_test).astype(int)\n",
    "output9 = model9.predict(xs_test).astype(int)\n",
    "output10 = model10.predict(xs_test).astype(int)"
   ]
  },
  {
   "cell_type": "code",
   "execution_count": 19,
   "metadata": {},
   "outputs": [],
   "source": [
    "test['Survived'] = output6\n",
    "test.to_csv('output.csv', columns = ['PassengerId', 'Survived'], index = False)"
   ]
  },
  {
   "cell_type": "code",
   "execution_count": 20,
   "metadata": {},
   "outputs": [
    {
     "name": "stdout",
     "output_type": "stream",
     "text": [
      "[0.10894665 0.4372347  0.13137598 0.16701952 0.0734486  0.08197456]\n",
      "[ 12  26  80 129   9  24]\n",
      "[0.12  0.418 0.082 0.13  0.112 0.138]\n"
     ]
    }
   ],
   "source": [
    "print(model.feature_importances_)\n",
    "print(model6.feature_importances_)\n",
    "print(model7.feature_importances_)"
   ]
  },
  {
   "cell_type": "code",
   "execution_count": 21,
   "metadata": {},
   "outputs": [
    {
     "name": "stderr",
     "output_type": "stream",
     "text": [
      "/Library/Frameworks/Python.framework/Versions/3.8/lib/python3.8/site-packages/sklearn/svm/_base.py:946: ConvergenceWarning: Liblinear failed to converge, increase the number of iterations.\n",
      "  warnings.warn(\"Liblinear failed to converge, increase \"\n",
      "/Library/Frameworks/Python.framework/Versions/3.8/lib/python3.8/site-packages/sklearn/svm/_base.py:946: ConvergenceWarning: Liblinear failed to converge, increase the number of iterations.\n",
      "  warnings.warn(\"Liblinear failed to converge, increase \"\n",
      "/Library/Frameworks/Python.framework/Versions/3.8/lib/python3.8/site-packages/sklearn/svm/_base.py:946: ConvergenceWarning: Liblinear failed to converge, increase the number of iterations.\n",
      "  warnings.warn(\"Liblinear failed to converge, increase \"\n",
      "/Library/Frameworks/Python.framework/Versions/3.8/lib/python3.8/site-packages/sklearn/svm/_base.py:946: ConvergenceWarning: Liblinear failed to converge, increase the number of iterations.\n",
      "  warnings.warn(\"Liblinear failed to converge, increase \"\n",
      "/Library/Frameworks/Python.framework/Versions/3.8/lib/python3.8/site-packages/sklearn/svm/_base.py:946: ConvergenceWarning: Liblinear failed to converge, increase the number of iterations.\n",
      "  warnings.warn(\"Liblinear failed to converge, increase \"\n"
     ]
    },
    {
     "name": "stdout",
     "output_type": "stream",
     "text": [
      "Random Forest:         [0.79329609 0.80337079 0.83146067 0.80898876 0.83707865] Mean: 0.814838993157994\n",
      "Logistic Regression:   [0.80446927 0.80337079 0.78651685 0.78651685 0.82022472] Mean: 0.8002196974452327\n",
      "LinearSVC:             [0.72625698 0.71348315 0.73033708 0.78651685 0.73595506] Mean: 0.7385098236143368\n",
      "SVC:                   [0.79888268 0.8258427  0.78089888 0.75280899 0.78651685] Mean: 0.7889900194589166\n",
      "Voting Classifier:     [0.77653631 0.80898876 0.83146067 0.80898876 0.80898876] Mean: 0.8069926558282594\n",
      "LightGBM:              [0.79329609 0.83707865 0.85393258 0.81460674 0.85393258] Mean: 0.8305693302366455\n",
      "AdaBoost:              [0.81005587 0.82022472 0.80337079 0.79213483 0.80337079] Mean: 0.8058313979034587\n",
      "New Voting Classifier: [0.76536313 0.80898876 0.80898876 0.7752809  0.8258427 ] Mean: 0.7968928504174252\n",
      "KNeighbors:            [0.66480447 0.68539326 0.7247191  0.74719101 0.71910112] Mean: 0.7082417927311531\n",
      "Goussian NB:           [0.72067039 0.74157303 0.7752809  0.8258427  0.80898876] Mean: 0.7744711568639759\n"
     ]
    }
   ],
   "source": [
    "from sklearn.model_selection import cross_val_score\n",
    "scores = cross_val_score(model, xs, y, cv=5, scoring = 'accuracy')\n",
    "scores2 = cross_val_score(model2, xs, y, cv=5, scoring = 'accuracy')\n",
    "scores3 = cross_val_score(model3, xs, y, cv=5, scoring = 'accuracy')\n",
    "scores4 = cross_val_score(model4, xs, y, cv=5, scoring = 'accuracy')\n",
    "scores5 = cross_val_score(model5, xs, y, cv=5, scoring = 'accuracy')\n",
    "scores6 = cross_val_score(model6, xs, y, cv=5, scoring = 'accuracy')\n",
    "scores7 = cross_val_score(model7, xs, y, cv=5, scoring = 'accuracy')\n",
    "scores8 = cross_val_score(model8, xs, y, cv=5, scoring = 'accuracy')\n",
    "scores9 = cross_val_score(model9, xs, y, cv=5, scoring = 'accuracy')\n",
    "scores10 = cross_val_score(model10, xs, y, cv=5, scoring = 'accuracy')\n",
    "\n",
    "print(\"Random Forest:        \", scores,\"Mean:\",  scores.mean())\n",
    "print(\"Logistic Regression:  \", scores2,\"Mean:\",  scores2.mean())\n",
    "print(\"LinearSVC:            \", scores3,\"Mean:\",  scores3.mean())\n",
    "print(\"SVC:                  \", scores4,\"Mean:\",  scores4.mean())\n",
    "print(\"Voting Classifier:    \", scores5,\"Mean:\",  scores5.mean())\n",
    "print(\"LightGBM:             \", scores6,\"Mean:\",  scores6.mean())\n",
    "print(\"AdaBoost:             \", scores7,\"Mean:\",  scores7.mean())\n",
    "print(\"New Voting Classifier:\", scores8,\"Mean:\",  scores8.mean())\n",
    "print(\"KNeighbors:           \", scores9,\"Mean:\",  scores9.mean())\n",
    "print(\"Goussian NB:          \", scores10,\"Mean:\",  scores10.mean())"
   ]
  },
  {
   "cell_type": "code",
   "execution_count": 22,
   "metadata": {},
   "outputs": [
    {
     "name": "stdout",
     "output_type": "stream",
     "text": [
      "[[ 3.      0.     22.      7.25  ]\n",
      " [ 1.      1.     38.     71.2833]\n",
      " [ 3.      1.     26.      7.925 ]\n",
      " ...\n",
      " [ 3.      1.     28.     23.45  ]\n",
      " [ 1.      0.     26.     30.    ]\n",
      " [ 3.      0.     32.      7.75  ]]\n",
      "(891, 4)\n",
      "(891,)\n"
     ]
    }
   ],
   "source": [
    "xs = train_data[:, 2:6]\n",
    "print(xs)\n",
    "print(xs.shape)\n",
    "print(y.shape)"
   ]
  },
  {
   "cell_type": "code",
   "execution_count": 13,
   "metadata": {},
   "outputs": [
    {
     "name": "stderr",
     "output_type": "stream",
     "text": [
      "/Library/Frameworks/Python.framework/Versions/3.8/lib/python3.8/site-packages/sklearn/svm/_base.py:946: ConvergenceWarning: Liblinear failed to converge, increase the number of iterations.\n",
      "  warnings.warn(\"Liblinear failed to converge, increase \"\n"
     ]
    }
   ],
   "source": [
    "model = model.fit(xs, y)\n",
    "model2 = model2.fit(xs, y)\n",
    "model3 = model3.fit(xs, y)\n",
    "model4 = model4.fit(xs, y)\n",
    "model5 = VotingClassifier(estimators=[('rf', RandomForestClassifier(n_estimators = 1000, max_leaf_nodes = 32, n_jobs = -1)),('logi', LogisticRegression()), ('svc', SVC(kernel = 'linear', C = 0.025))])\n",
    "model5 = model5.fit(xs, y)\n",
    "model6 = model6.fit(xs, y)\n",
    "model7 = model7.fit(xs, y)\n",
    "model8 = model8.fit(xs, y)\n",
    "model9 = model9.fit(xs, y)\n",
    "model10 = model10.fit(xs, y)"
   ]
  },
  {
   "cell_type": "code",
   "execution_count": 14,
   "metadata": {},
   "outputs": [
    {
     "name": "stdout",
     "output_type": "stream",
     "text": [
      "(418, 4)\n"
     ]
    }
   ],
   "source": [
    "test_data = test.values\n",
    "xs_test = test_data[:, 1:5]\n",
    "\n",
    "print(xs_test.shape)\n"
   ]
  },
  {
   "cell_type": "code",
   "execution_count": 15,
   "metadata": {},
   "outputs": [],
   "source": [
    "output = model.predict(xs_test).astype(int)\n",
    "output2 = model2.predict(xs_test).astype(int)\n",
    "output3 = model3.predict(xs_test).astype(int)\n",
    "output4 = model4.predict(xs_test).astype(int)\n",
    "output5 = model5.predict(xs_test).astype(int)\n",
    "output6 = model6.predict(xs_test).astype(int)\n",
    "output7 = model7.predict(xs_test).astype(int)\n",
    "output8 = model8.predict(xs_test).astype(int)\n",
    "output9 = model9.predict(xs_test).astype(int)\n",
    "output10 = model10.predict(xs_test).astype(int)"
   ]
  },
  {
   "cell_type": "code",
   "execution_count": 21,
   "metadata": {},
   "outputs": [],
   "source": [
    "test['Survived'] = output\n",
    "test.to_csv('output.csv', columns = ['PassengerId', 'Survived'], index = False)"
   ]
  },
  {
   "cell_type": "code",
   "execution_count": 17,
   "metadata": {},
   "outputs": [
    {
     "name": "stdout",
     "output_type": "stream",
     "text": [
      "0.8720538720538721\n",
      "0.7991021324354658\n",
      "0.6374859708193041\n",
      "0.7867564534231201\n",
      "0.8047138047138047\n",
      "0.7867564534231201\n",
      "0.819304152637486\n",
      "0.8428731762065096\n",
      "0.8406285072951739\n",
      "0.7777777777777778\n"
     ]
    }
   ],
   "source": [
    "print(model.score(xs, y))\n",
    "print(model2.score(xs, y))\n",
    "print(model3.score(xs, y))\n",
    "print(model4.score(xs, y))\n",
    "print(model5.score(xs, y))\n",
    "print(model6.score(xs, y))\n",
    "print(model7.score(xs, y))\n",
    "print(model8.score(xs, y))\n",
    "print(model9.score(xs, y))\n",
    "print(model10.score(xs, y))"
   ]
  },
  {
   "cell_type": "code",
   "execution_count": 18,
   "metadata": {},
   "outputs": [
    {
     "name": "stderr",
     "output_type": "stream",
     "text": [
      "/Library/Frameworks/Python.framework/Versions/3.8/lib/python3.8/site-packages/sklearn/svm/_base.py:946: ConvergenceWarning: Liblinear failed to converge, increase the number of iterations.\n",
      "  warnings.warn(\"Liblinear failed to converge, increase \"\n",
      "/Library/Frameworks/Python.framework/Versions/3.8/lib/python3.8/site-packages/sklearn/svm/_base.py:946: ConvergenceWarning: Liblinear failed to converge, increase the number of iterations.\n",
      "  warnings.warn(\"Liblinear failed to converge, increase \"\n",
      "/Library/Frameworks/Python.framework/Versions/3.8/lib/python3.8/site-packages/sklearn/svm/_base.py:946: ConvergenceWarning: Liblinear failed to converge, increase the number of iterations.\n",
      "  warnings.warn(\"Liblinear failed to converge, increase \"\n",
      "/Library/Frameworks/Python.framework/Versions/3.8/lib/python3.8/site-packages/sklearn/svm/_base.py:946: ConvergenceWarning: Liblinear failed to converge, increase the number of iterations.\n",
      "  warnings.warn(\"Liblinear failed to converge, increase \"\n",
      "/Library/Frameworks/Python.framework/Versions/3.8/lib/python3.8/site-packages/sklearn/svm/_base.py:946: ConvergenceWarning: Liblinear failed to converge, increase the number of iterations.\n",
      "  warnings.warn(\"Liblinear failed to converge, increase \"\n"
     ]
    }
   ],
   "source": [
    "#交差検証\n",
    "from sklearn.model_selection import cross_val_score\n",
    "scores = cross_val_score(model, xs, y, cv=5, scoring = 'accuracy')\n",
    "scores2 = cross_val_score(model2, xs, y, cv=5, scoring = 'accuracy')\n",
    "scores3 = cross_val_score(model3, xs, y, cv=5, scoring = 'accuracy')\n",
    "scores4 = cross_val_score(model4, xs, y, cv=5, scoring = 'accuracy')\n",
    "scores5 = cross_val_score(model5, xs, y, cv=5, scoring = 'accuracy')\n",
    "scores6 = cross_val_score(model6, xs, y, cv=5, scoring = 'accuracy')\n",
    "scores7 = cross_val_score(model7, xs, y, cv=5, scoring = 'accuracy')\n",
    "scores8 = cross_val_score(model8, xs, y, cv=5, scoring = 'accuracy')\n",
    "scores9 = cross_val_score(model9, xs, y, cv=5, scoring = 'accuracy')\n",
    "scores10 = cross_val_score(model10, xs, y, cv=5, scoring = 'accuracy')\n",
    "\n",
    "def display_scores(scores):\n",
    "    print('scores:', scores)\n",
    "    print('Mean:', scores.mean())\n",
    "    print('Standard devitation:', scores.std())\n",
    "\n"
   ]
  },
  {
   "cell_type": "code",
   "execution_count": 19,
   "metadata": {},
   "outputs": [
    {
     "name": "stdout",
     "output_type": "stream",
     "text": [
      "Random Forest:         [0.82122905 0.83146067 0.8258427  0.80337079 0.85393258] Mean: 0.8271671583704727\n",
      "Logistic Regression:   [0.7877095  0.78089888 0.78651685 0.7752809  0.80337079] Mean: 0.7867553825874082\n",
      "LinearSVC:             [0.75418994 0.73033708 0.74719101 0.74157303 0.79775281] Mean: 0.7542087753436696\n",
      "SVC:                   [0.79329609 0.80337079 0.78651685 0.75280899 0.78651685] Mean: 0.7845019145063085\n",
      "Voting Classifier:     [0.79888268 0.82022472 0.78651685 0.76966292 0.80337079] Mean: 0.7957315924926245\n",
      "LightGBM:              [0.74860335 0.79213483 0.78651685 0.75280899 0.80337079] Mean: 0.7766869625258929\n",
      "AdaBoost:              [0.77653631 0.80898876 0.78651685 0.79213483 0.8258427 ] Mean: 0.7980038917833155\n",
      "New Voting Classifier: [0.80446927 0.8258427  0.79213483 0.76966292 0.82022472] Mean: 0.8024668884564686\n",
      "New Voting Classifier: [0.65363128 0.69662921 0.73595506 0.75280899 0.70224719] Mean: 0.7082543468708806\n",
      "New Voting Classifier: [0.70949721 0.79775281 0.78089888 0.76404494 0.79213483] Mean: 0.7688657334756137\n"
     ]
    }
   ],
   "source": [
    "print(\"Random Forest:        \", scores,\"Mean:\",  scores.mean())\n",
    "print(\"Logistic Regression:  \", scores2,\"Mean:\",  scores2.mean())\n",
    "print(\"LinearSVC:            \", scores3,\"Mean:\",  scores3.mean())\n",
    "print(\"SVC:                  \", scores4,\"Mean:\",  scores4.mean())\n",
    "print(\"Voting Classifier:    \", scores5,\"Mean:\",  scores5.mean())\n",
    "print(\"LightGBM:             \", scores6,\"Mean:\",  scores6.mean())\n",
    "print(\"AdaBoost:             \", scores7,\"Mean:\",  scores7.mean())\n",
    "print(\"New Voting Classifier:\", scores8,\"Mean:\",  scores8.mean())\n",
    "print(\"New Voting Classifier:\", scores9,\"Mean:\",  scores9.mean())\n",
    "print(\"New Voting Classifier:\", scores10,\"Mean:\",  scores10.mean())\n"
   ]
  },
  {
   "cell_type": "code",
   "execution_count": 20,
   "metadata": {},
   "outputs": [
    {
     "name": "stdout",
     "output_type": "stream",
     "text": [
      "[0.15066083 0.45942345 0.16449372 0.22542201]\n",
      "[ 82 100  16   2]\n",
      "[0.15  0.084 0.29  0.476]\n"
     ]
    }
   ],
   "source": [
    "print(model.feature_importances_)\n",
    "print(model6.feature_importances_)\n",
    "print(model7.feature_importances_)"
   ]
  },
  {
   "cell_type": "code",
   "execution_count": null,
   "metadata": {},
   "outputs": [],
   "source": []
  }
 ],
 "metadata": {
  "kernelspec": {
   "display_name": "Python 3",
   "language": "python",
   "name": "python3"
  },
  "language_info": {
   "codemirror_mode": {
    "name": "ipython",
    "version": 3
   },
   "file_extension": ".py",
   "mimetype": "text/x-python",
   "name": "python",
   "nbconvert_exporter": "python",
   "pygments_lexer": "ipython3",
   "version": "3.8.1"
  }
 },
 "nbformat": 4,
 "nbformat_minor": 2
}
